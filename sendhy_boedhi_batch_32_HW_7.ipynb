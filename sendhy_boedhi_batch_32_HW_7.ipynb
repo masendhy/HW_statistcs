{
 "cells": [
  {
   "cell_type": "code",
   "execution_count": null,
   "id": "5e28f05f-7e05-42eb-86c9-feeb8275ad32",
   "metadata": {},
   "outputs": [],
   "source": [
    "import pandas as pd\n",
    "import numpy as np\n",
    "\n",
    "\n",
    "## Library visualisasi\n",
    "import matplotlib\n",
    "import matplotlib.pyplot as plt\n",
    "import seaborn as sns\n",
    "\n",
    "%matplotlib inline \n",
    "matplotlib.style.use('ggplot')\n",
    "import scipy.stats as st # statiscal function\n",
    "\n",
    "from PIL import Image"
   ]
  },
  {
   "cell_type": "markdown",
   "id": "58b6a8bd-f5ee-4a5d-934d-309a693ddb2c",
   "metadata": {},
   "source": [
    "### Soal : 1. Tunjukkan statistika deskriptif untuk variabel harga rumah"
   ]
  },
  {
   "cell_type": "code",
   "execution_count": null,
   "id": "4e93fb6d-7e90-475b-844e-cf3949a947f4",
   "metadata": {},
   "outputs": [
    {
     "data": {
      "text/html": [
       "<div>\n",
       "<style scoped>\n",
       "    .dataframe tbody tr th:only-of-type {\n",
       "        vertical-align: middle;\n",
       "    }\n",
       "\n",
       "    .dataframe tbody tr th {\n",
       "        vertical-align: top;\n",
       "    }\n",
       "\n",
       "    .dataframe thead th {\n",
       "        text-align: right;\n",
       "    }\n",
       "</style>\n",
       "<table border=\"1\" class=\"dataframe\">\n",
       "  <thead>\n",
       "    <tr style=\"text-align: right;\">\n",
       "      <th></th>\n",
       "      <th>Id</th>\n",
       "      <th>MSSubClass</th>\n",
       "      <th>MSZoning</th>\n",
       "      <th>LotFrontage</th>\n",
       "      <th>LotArea</th>\n",
       "      <th>Street</th>\n",
       "      <th>Alley</th>\n",
       "      <th>LotShape</th>\n",
       "      <th>LandContour</th>\n",
       "      <th>Utilities</th>\n",
       "      <th>...</th>\n",
       "      <th>PoolArea</th>\n",
       "      <th>PoolQC</th>\n",
       "      <th>Fence</th>\n",
       "      <th>MiscFeature</th>\n",
       "      <th>MiscVal</th>\n",
       "      <th>MoSold</th>\n",
       "      <th>YrSold</th>\n",
       "      <th>SaleType</th>\n",
       "      <th>SaleCondition</th>\n",
       "      <th>SalePrice</th>\n",
       "    </tr>\n",
       "  </thead>\n",
       "  <tbody>\n",
       "    <tr>\n",
       "      <th>0</th>\n",
       "      <td>1</td>\n",
       "      <td>60</td>\n",
       "      <td>RL</td>\n",
       "      <td>65.0</td>\n",
       "      <td>8450</td>\n",
       "      <td>Pave</td>\n",
       "      <td>NaN</td>\n",
       "      <td>Reg</td>\n",
       "      <td>Lvl</td>\n",
       "      <td>AllPub</td>\n",
       "      <td>...</td>\n",
       "      <td>0</td>\n",
       "      <td>NaN</td>\n",
       "      <td>NaN</td>\n",
       "      <td>NaN</td>\n",
       "      <td>0</td>\n",
       "      <td>2</td>\n",
       "      <td>2008</td>\n",
       "      <td>WD</td>\n",
       "      <td>Normal</td>\n",
       "      <td>208500</td>\n",
       "    </tr>\n",
       "    <tr>\n",
       "      <th>1</th>\n",
       "      <td>2</td>\n",
       "      <td>20</td>\n",
       "      <td>RL</td>\n",
       "      <td>80.0</td>\n",
       "      <td>9600</td>\n",
       "      <td>Pave</td>\n",
       "      <td>NaN</td>\n",
       "      <td>Reg</td>\n",
       "      <td>Lvl</td>\n",
       "      <td>AllPub</td>\n",
       "      <td>...</td>\n",
       "      <td>0</td>\n",
       "      <td>NaN</td>\n",
       "      <td>NaN</td>\n",
       "      <td>NaN</td>\n",
       "      <td>0</td>\n",
       "      <td>5</td>\n",
       "      <td>2007</td>\n",
       "      <td>WD</td>\n",
       "      <td>Normal</td>\n",
       "      <td>181500</td>\n",
       "    </tr>\n",
       "    <tr>\n",
       "      <th>2</th>\n",
       "      <td>3</td>\n",
       "      <td>60</td>\n",
       "      <td>RL</td>\n",
       "      <td>68.0</td>\n",
       "      <td>11250</td>\n",
       "      <td>Pave</td>\n",
       "      <td>NaN</td>\n",
       "      <td>IR1</td>\n",
       "      <td>Lvl</td>\n",
       "      <td>AllPub</td>\n",
       "      <td>...</td>\n",
       "      <td>0</td>\n",
       "      <td>NaN</td>\n",
       "      <td>NaN</td>\n",
       "      <td>NaN</td>\n",
       "      <td>0</td>\n",
       "      <td>9</td>\n",
       "      <td>2008</td>\n",
       "      <td>WD</td>\n",
       "      <td>Normal</td>\n",
       "      <td>223500</td>\n",
       "    </tr>\n",
       "    <tr>\n",
       "      <th>3</th>\n",
       "      <td>4</td>\n",
       "      <td>70</td>\n",
       "      <td>RL</td>\n",
       "      <td>60.0</td>\n",
       "      <td>9550</td>\n",
       "      <td>Pave</td>\n",
       "      <td>NaN</td>\n",
       "      <td>IR1</td>\n",
       "      <td>Lvl</td>\n",
       "      <td>AllPub</td>\n",
       "      <td>...</td>\n",
       "      <td>0</td>\n",
       "      <td>NaN</td>\n",
       "      <td>NaN</td>\n",
       "      <td>NaN</td>\n",
       "      <td>0</td>\n",
       "      <td>2</td>\n",
       "      <td>2006</td>\n",
       "      <td>WD</td>\n",
       "      <td>Abnorml</td>\n",
       "      <td>140000</td>\n",
       "    </tr>\n",
       "    <tr>\n",
       "      <th>4</th>\n",
       "      <td>5</td>\n",
       "      <td>60</td>\n",
       "      <td>RL</td>\n",
       "      <td>84.0</td>\n",
       "      <td>14260</td>\n",
       "      <td>Pave</td>\n",
       "      <td>NaN</td>\n",
       "      <td>IR1</td>\n",
       "      <td>Lvl</td>\n",
       "      <td>AllPub</td>\n",
       "      <td>...</td>\n",
       "      <td>0</td>\n",
       "      <td>NaN</td>\n",
       "      <td>NaN</td>\n",
       "      <td>NaN</td>\n",
       "      <td>0</td>\n",
       "      <td>12</td>\n",
       "      <td>2008</td>\n",
       "      <td>WD</td>\n",
       "      <td>Normal</td>\n",
       "      <td>250000</td>\n",
       "    </tr>\n",
       "  </tbody>\n",
       "</table>\n",
       "<p>5 rows × 81 columns</p>\n",
       "</div>"
      ],
      "text/plain": [
       "   Id  MSSubClass MSZoning  LotFrontage  LotArea Street Alley LotShape  \\\n",
       "0   1          60       RL         65.0     8450   Pave   NaN      Reg   \n",
       "1   2          20       RL         80.0     9600   Pave   NaN      Reg   \n",
       "2   3          60       RL         68.0    11250   Pave   NaN      IR1   \n",
       "3   4          70       RL         60.0     9550   Pave   NaN      IR1   \n",
       "4   5          60       RL         84.0    14260   Pave   NaN      IR1   \n",
       "\n",
       "  LandContour Utilities  ... PoolArea PoolQC Fence MiscFeature MiscVal MoSold  \\\n",
       "0         Lvl    AllPub  ...        0    NaN   NaN         NaN       0      2   \n",
       "1         Lvl    AllPub  ...        0    NaN   NaN         NaN       0      5   \n",
       "2         Lvl    AllPub  ...        0    NaN   NaN         NaN       0      9   \n",
       "3         Lvl    AllPub  ...        0    NaN   NaN         NaN       0      2   \n",
       "4         Lvl    AllPub  ...        0    NaN   NaN         NaN       0     12   \n",
       "\n",
       "  YrSold  SaleType  SaleCondition  SalePrice  \n",
       "0   2008        WD         Normal     208500  \n",
       "1   2007        WD         Normal     181500  \n",
       "2   2008        WD         Normal     223500  \n",
       "3   2006        WD        Abnorml     140000  \n",
       "4   2008        WD         Normal     250000  \n",
       "\n",
       "[5 rows x 81 columns]"
      ]
     },
     "execution_count": 4,
     "metadata": {},
     "output_type": "execute_result"
    }
   ],
   "source": [
    "df = pd.read_csv('train.csv')\n",
    "df.head()"
   ]
  },
  {
   "cell_type": "code",
   "execution_count": 4,
   "id": "74cb11d6-a58b-4e89-926c-173f6f38c332",
   "metadata": {},
   "outputs": [
    {
     "name": "stdout",
     "output_type": "stream",
     "text": [
      "count      1460.0\n",
      "mean     180921.0\n",
      "std       79443.0\n",
      "min       34900.0\n",
      "25%      129975.0\n",
      "50%      163000.0\n",
      "75%      214000.0\n",
      "max      755000.0\n",
      "Name: SalePrice, dtype: float64\n"
     ]
    }
   ],
   "source": [
    "df_price = df['SalePrice']\n",
    "print(round(df_price.describe()))"
   ]
  },
  {
   "cell_type": "markdown",
   "id": "d8b10b49-a8f6-4930-a9bf-b2304a9ac07b",
   "metadata": {},
   "source": [
    "* Pada dataframe diatas, terdapat 1460 data harga rumah.\n",
    "* Pada data ini untuk ukuran pemusatan, kita gunakan **median**, dikarenakan kemungkinan cukup banyaknya data harga rumah yang tersedia memungkinkan terjadinya nilai outlier.\n",
    "* Nilai median dapat kita lihat pada data ini adalah 163000\n",
    "* Untuk melakukan pengukuran penyebaran, kali ini kita menggunakan **range**, dimana selisih antara nilai min dan max nya adalah 720100, hal ini berati terdapat gap yang cukup besar antara harga minimal dengan harga maksimalnya.\n",
    "* Hal ini dapat kita interpretasikan bahwa dengan range yang cukup besar dan jarak antara nilai mean dan mediannya yang cukup tinggi, menunjukkan bahwa data memilik variabilitas yang signifikan, sehingga harus dipertimbangkan dengan baik dalam analisis lebih lanjut"
   ]
  },
  {
   "cell_type": "markdown",
   "id": "4910e709-a2cf-4ff4-8461-7a621fadc392",
   "metadata": {},
   "source": [
    "### Soal 2 : Tunjukkan statistika deskriptif untuk variabel harga rumah (Column Name : SalePrice) setiap tahunnya (Column Name : YrSold)!"
   ]
  },
  {
   "cell_type": "code",
   "execution_count": 6,
   "id": "34faeca8-2b84-4c2e-90ba-060d113322a4",
   "metadata": {},
   "outputs": [
    {
     "data": {
      "text/html": [
       "<div>\n",
       "<style scoped>\n",
       "    .dataframe tbody tr th:only-of-type {\n",
       "        vertical-align: middle;\n",
       "    }\n",
       "\n",
       "    .dataframe tbody tr th {\n",
       "        vertical-align: top;\n",
       "    }\n",
       "\n",
       "    .dataframe thead th {\n",
       "        text-align: right;\n",
       "    }\n",
       "</style>\n",
       "<table border=\"1\" class=\"dataframe\">\n",
       "  <thead>\n",
       "    <tr style=\"text-align: right;\">\n",
       "      <th></th>\n",
       "      <th>count</th>\n",
       "      <th>mean</th>\n",
       "      <th>std</th>\n",
       "      <th>min</th>\n",
       "      <th>25%</th>\n",
       "      <th>50%</th>\n",
       "      <th>75%</th>\n",
       "      <th>max</th>\n",
       "    </tr>\n",
       "    <tr>\n",
       "      <th>YrSold</th>\n",
       "      <th></th>\n",
       "      <th></th>\n",
       "      <th></th>\n",
       "      <th></th>\n",
       "      <th></th>\n",
       "      <th></th>\n",
       "      <th></th>\n",
       "      <th></th>\n",
       "    </tr>\n",
       "  </thead>\n",
       "  <tbody>\n",
       "    <tr>\n",
       "      <th>2006</th>\n",
       "      <td>314.0</td>\n",
       "      <td>182549.458599</td>\n",
       "      <td>79426.838855</td>\n",
       "      <td>35311.0</td>\n",
       "      <td>131375.0</td>\n",
       "      <td>163995.0</td>\n",
       "      <td>218782.5</td>\n",
       "      <td>625000.0</td>\n",
       "    </tr>\n",
       "    <tr>\n",
       "      <th>2007</th>\n",
       "      <td>329.0</td>\n",
       "      <td>186063.151976</td>\n",
       "      <td>85768.171410</td>\n",
       "      <td>39300.0</td>\n",
       "      <td>129900.0</td>\n",
       "      <td>167000.0</td>\n",
       "      <td>219500.0</td>\n",
       "      <td>755000.0</td>\n",
       "    </tr>\n",
       "    <tr>\n",
       "      <th>2008</th>\n",
       "      <td>304.0</td>\n",
       "      <td>177360.838816</td>\n",
       "      <td>69735.610685</td>\n",
       "      <td>40000.0</td>\n",
       "      <td>131250.0</td>\n",
       "      <td>164000.0</td>\n",
       "      <td>207000.0</td>\n",
       "      <td>446261.0</td>\n",
       "    </tr>\n",
       "    <tr>\n",
       "      <th>2009</th>\n",
       "      <td>338.0</td>\n",
       "      <td>179432.103550</td>\n",
       "      <td>80879.237311</td>\n",
       "      <td>34900.0</td>\n",
       "      <td>125250.0</td>\n",
       "      <td>162000.0</td>\n",
       "      <td>212750.0</td>\n",
       "      <td>582933.0</td>\n",
       "    </tr>\n",
       "    <tr>\n",
       "      <th>2010</th>\n",
       "      <td>175.0</td>\n",
       "      <td>177393.674286</td>\n",
       "      <td>80451.280085</td>\n",
       "      <td>55000.0</td>\n",
       "      <td>128100.0</td>\n",
       "      <td>155000.0</td>\n",
       "      <td>213250.0</td>\n",
       "      <td>611657.0</td>\n",
       "    </tr>\n",
       "  </tbody>\n",
       "</table>\n",
       "</div>"
      ],
      "text/plain": [
       "        count           mean           std      min       25%       50%  \\\n",
       "YrSold                                                                    \n",
       "2006    314.0  182549.458599  79426.838855  35311.0  131375.0  163995.0   \n",
       "2007    329.0  186063.151976  85768.171410  39300.0  129900.0  167000.0   \n",
       "2008    304.0  177360.838816  69735.610685  40000.0  131250.0  164000.0   \n",
       "2009    338.0  179432.103550  80879.237311  34900.0  125250.0  162000.0   \n",
       "2010    175.0  177393.674286  80451.280085  55000.0  128100.0  155000.0   \n",
       "\n",
       "             75%       max  \n",
       "YrSold                      \n",
       "2006    218782.5  625000.0  \n",
       "2007    219500.0  755000.0  \n",
       "2008    207000.0  446261.0  \n",
       "2009    212750.0  582933.0  \n",
       "2010    213250.0  611657.0  "
      ]
     },
     "execution_count": 6,
     "metadata": {},
     "output_type": "execute_result"
    }
   ],
   "source": [
    "df_year = df.groupby('YrSold')['SalePrice'].describe()\n",
    "df_year"
   ]
  },
  {
   "cell_type": "markdown",
   "id": "211bfed4-02c0-453a-8fd3-141d1ac108ef",
   "metadata": {},
   "source": [
    "* Dari data diatas, jumlah penjualan rumah dari tahun ketahun selalu mengalami perubahan, jumlah penjualan terbanyak terjadi pada tahun 2009 yaitu sebanyak 338 kali sedang jumlah penjualan paling sedikit terjadi pada tahu 2010 yaitu sebanyak 175 kali.\n",
    "* Nilai pemusatan harga rumah jika dilihat berdasarkan mediannya, relative sama yaitu pada harga 160000 an\n",
    "* Sedangkan nilai penyebaran harga rumah dapat kita lihat pada nilai standar deviasi nya sangat beragam pada setiap tahunnya\n",
    "* Pada tahun 2010 jumlah penjualan rumah menurun sangat signifikan, hal ini kemungkian besar karena ***\"The subprime mortgage crisis\"*** yang terjadi pada saat itu.\n",
    "* Namun meski angka penjualan pada tahun 2010 turun drastis, karena banyak pengusaha property yang mengalami kebangkrutan, tetapi rata-rata harga penjualannya masih normal.\n",
    "* Pada data YearOnYear kali ini dapat kita interpretasikan bahwa dari tahun ke tahun penjualan property memiliki angka penjualan yang relative sama yaitu berkisar pada angka 300an, dan rata\" harga penjualannya pun relative sama dari tahun ke tahun."
   ]
  },
  {
   "cell_type": "markdown",
   "id": "8c00221a-590b-4ff0-8d9c-38645dbf0ce8",
   "metadata": {},
   "source": [
    "### Soal 3: Bagaimana distribusi harga rumah tersebut. Gunakan histogram plot tidak terbatas hanya histogram saja. Jelaskan sebaiknya untuk analisa apakah lebih baik menggunakan mean atau menggunakan median? Beserta alasannya (Column Name : SalePrice)"
   ]
  },
  {
   "cell_type": "code",
   "execution_count": 6,
   "id": "3d46df40-072c-4944-a89b-9a1c2d262dec",
   "metadata": {},
   "outputs": [
    {
     "data": {
      "text/plain": [
       "Text(0.5, 0, 'Harga Rumah')"
      ]
     },
     "execution_count": 6,
     "metadata": {},
     "output_type": "execute_result"
    },
    {
     "data": {
      "image/png": "[encoded data removed]",
      "text/plain": [
       "<Figure size 640x480 with 1 Axes>"
      ]
     },
     "metadata": {},
     "output_type": "display_data"
    }
   ],
   "source": [
    "sns.histplot(df['SalePrice'])\n",
    "plt.title('Sale Price Histogram')\n",
    "plt.ylabel('Jumlah Penjualan')\n",
    "plt.xlabel('Harga Rumah')"
   ]
  },
  {
   "cell_type": "markdown",
   "id": "ccc79043-eee5-499a-87fa-24bdd3b4aca9",
   "metadata": {},
   "source": [
    "* Pada data diatas jika kita analisa menggunakan grafik yang ada, maka ada beberapa hal yang dapat menjadi perhatian kita :\n",
    "    ~ harga rumah yang banyak di pilih oleh pembeli ada pada kisaran harga 120000 sampai dengan harga 180000 an., hal ini berarti harga rumah pada kisaran ini sangat terjangkau bagi pembeli.\n",
    "    ~ sedangkan harga rumah yang menjadi pilihan kedua oleh pembeli ada kisaran harga 155000 an sampai dengan 165000 an. \n",
    "    ~ harga rumah kisaran 80000 sampai dengan 100000 dan kisaran 200000 sampai dengan 220000 menjadi pilihan kedua.\n",
    "    ~ rumah dengan harga dibawah 80000 dan diatas 300000 masih sangat sedikit peminatnya\n",
    "\n",
    "* Banyak nya data outlier dari harga rumah, contoh pada harga 240000 sampai dengan harga 280000, menjadikan **median** menjadi pilihan terbaik dalam menganalisa datanya, karena seperti diketahui bahwa median lebih tangguh terhadap nilai pencilan yang ada.\n",
    "\n",
    "* Berdasarkan diagram histogram diatas, dapat kita intepretasikan bahwa sebaran data yang cenderung ke kanan, dapat diindikasikan bahwa rata-rata harga rumah lebih besar jika dibandingkan dengan nilai median maupun modusnya. "
   ]
  },
  {
   "cell_type": "markdown",
   "id": "5d4118a6-7ceb-4cd7-9280-9ef314622c21",
   "metadata": {},
   "source": [
    "### Soal 4 : Karena ada pernyataan bahwa setiap tahunnya harga rumah itu pasti naik. (tahun terjual : YrSold, harga rumah : SalePrice) Silahkan teman-teman buktikan dengan data yang ada menggunakan ilmu statistika? (Tidak terbatas pada pengujian apapun)"
   ]
  },
  {
   "cell_type": "code",
   "execution_count": 19,
   "id": "b75700f6-4186-4f1a-9789-7a67a6663c09",
   "metadata": {},
   "outputs": [
    {
     "data": {
      "text/html": [
       "<div>\n",
       "<style scoped>\n",
       "    .dataframe tbody tr th:only-of-type {\n",
       "        vertical-align: middle;\n",
       "    }\n",
       "\n",
       "    .dataframe tbody tr th {\n",
       "        vertical-align: top;\n",
       "    }\n",
       "\n",
       "    .dataframe thead th {\n",
       "        text-align: right;\n",
       "    }\n",
       "</style>\n",
       "<table border=\"1\" class=\"dataframe\">\n",
       "  <thead>\n",
       "    <tr style=\"text-align: right;\">\n",
       "      <th></th>\n",
       "      <th>Year</th>\n",
       "      <th>Mean</th>\n",
       "    </tr>\n",
       "  </thead>\n",
       "  <tbody>\n",
       "    <tr>\n",
       "      <th>0</th>\n",
       "      <td>2006</td>\n",
       "      <td>182549.458599</td>\n",
       "    </tr>\n",
       "    <tr>\n",
       "      <th>1</th>\n",
       "      <td>2007</td>\n",
       "      <td>186063.151976</td>\n",
       "    </tr>\n",
       "    <tr>\n",
       "      <th>2</th>\n",
       "      <td>2008</td>\n",
       "      <td>177360.838816</td>\n",
       "    </tr>\n",
       "    <tr>\n",
       "      <th>3</th>\n",
       "      <td>2009</td>\n",
       "      <td>179432.103550</td>\n",
       "    </tr>\n",
       "    <tr>\n",
       "      <th>4</th>\n",
       "      <td>2010</td>\n",
       "      <td>177393.674286</td>\n",
       "    </tr>\n",
       "  </tbody>\n",
       "</table>\n",
       "</div>"
      ],
      "text/plain": [
       "   Year           Mean\n",
       "0  2006  182549.458599\n",
       "1  2007  186063.151976\n",
       "2  2008  177360.838816\n",
       "3  2009  179432.103550\n",
       "4  2010  177393.674286"
      ]
     },
     "execution_count": 19,
     "metadata": {},
     "output_type": "execute_result"
    }
   ],
   "source": [
    "# Penentuan hipotesis statistika deskriptif menggunakan mean\n",
    "\n",
    "df_mean = df.groupby('YrSold')['SalePrice'].mean().reset_index()\n",
    "df_mean.columns = ['Year','Mean']\n",
    "df_mean"
   ]
  },
  {
   "cell_type": "code",
   "execution_count": null,
   "id": "5ccb7c06-8ff2-4384-912d-8e6cc2060758",
   "metadata": {},
   "outputs": [
    {
     "data": {
      "text/plain": [
       "F_onewayResult(statistic=0.6455252211679311, pvalue=0.6300887663573457)"
      ]
     },
     "execution_count": 24,
     "metadata": {},
     "output_type": "execute_result"
    }
   ],
   "source": [
    "# Pengujian terhadap hipotesis\n",
    "\n",
    "df_06 = df[df['YrSold']== 2006]\n",
    "df_07 = df[df['YrSold']== 2007]\n",
    "df_08 = df[df['YrSold']== 2008]\n",
    "df_09 = df[df['YrSold']== 2009]\n",
    "df_10 = df[df['YrSold']== 2010]\n",
    "\n",
    "anova_result = st.f_oneway(df_06['SalePrice'],\n",
    "                           df_07['SalePrice'],\n",
    "                           df_08['SalePrice'],\n",
    "                           df_09['SalePrice'],\n",
    "                           df_10['SalePrice'],)\n",
    "\n",
    "anova_result"
   ]
  },
  {
   "cell_type": "code",
   "execution_count": 33,
   "id": "19b90a98-9a5a-4028-aa9e-df8e9abbfa4f",
   "metadata": {},
   "outputs": [
    {
     "name": "stdout",
     "output_type": "stream",
     "text": [
      "P-value 0.6300887663573457\n"
     ]
    }
   ],
   "source": [
    "pvalue = anova_result.pvalue\n",
    "print('P-value',pvalue)"
   ]
  },
  {
   "cell_type": "code",
   "execution_count": 39,
   "id": "e58b9196-f672-4755-bb71-754c8efdbb37",
   "metadata": {},
   "outputs": [
    {
     "name": "stdout",
     "output_type": "stream",
     "text": [
      "Terima H0 : Tidak cukup bukti bahwa rata-rata harga rumah setiap tahun naik, P_value :  0.6300887663573457\n"
     ]
    }
   ],
   "source": [
    "# Hasil Uji Hipotesis\n",
    "\n",
    "if pvalue >= 0.5 :\n",
    "    print('Terima H0 : Tidak cukup bukti bahwa rata-rata harga rumah setiap tahun naik, P_value : ',pvalue)\n",
    "else :\n",
    "    print('Terima H1 : Cukup bukti bahwa rata-rata harga rumah setiap tahun naik, P_value : ',pvalue )"
   ]
  },
  {
   "cell_type": "markdown",
   "id": "814ca848-ef32-4dde-b2bc-693e8f1441ed",
   "metadata": {},
   "source": [
    "_Interpretasi_\n",
    "\n",
    "* Dalam hal ini, pernyataan bahwa setiap tahun harga rumah selalu naik adalah **salah**, karena jika kita lihat uji hipotesis terhadap rata-rata harga rumah YearOnYear sangat fluktuatif. \n",
    "\n"
   ]
  },
  {
   "cell_type": "code",
   "execution_count": 38,
   "id": "5063a442-046b-4dc6-bebb-220322eb88d1",
   "metadata": {},
   "outputs": [
    {
     "data": {
      "image/png": "[encoded data removed]",
      "text/plain": [
       "<PIL.PngImagePlugin.PngImageFile image mode=RGBA size=568x329>"
      ]
     },
     "execution_count": 38,
     "metadata": {},
     "output_type": "execute_result"
    }
   ],
   "source": [
    "Image.open('H0_H1.png')"
   ]
  },
  {
   "cell_type": "markdown",
   "id": "a517d12c-2c79-47d2-9846-a61769b80fa2",
   "metadata": {},
   "source": [
    "***add :***\n",
    "\n",
    "*kesimpulan yang diambil berdasarkan teori disebut analisis* <br>\n",
    "*kesimpulan berdasarkan penglihatan kasatmata pada data disebut intepretasi* <br>\n",
    "*jika p_value > dr alpha maka : tidak cukup bukti bahwa rata-rata harga rumah setiap tahun naik*<br>\n",
    "*jika p_value < dr alpha maka : cukup bukti bahwa rata-rata harga rumah setiap tahun naik*"
   ]
  },
  {
   "cell_type": "markdown",
   "id": "3b6d682f-dad5-4680-b8b0-660bb262291e",
   "metadata": {},
   "source": [
    "### Soal 5 : Apakah jumlah campaign mampu meningkatkan keinginan user untuk membuka akun deposit atau tidak?"
   ]
  },
  {
   "cell_type": "markdown",
   "id": "3a314b4d-7ea6-4307-b187-25082d612bbe",
   "metadata": {},
   "source": [
    "### 5.1 Pemahaman konsep A/B Testing\n",
    "\n",
    "    a. Apa nama experimentnya?\n",
    "    b. Definisikan Hipotesis \n",
    "    c. Siapa participant-nya?\n",
    "    d. Variabel yang akan diuji apa?\n",
    "    e. Metrics apa yang akan digunakan?\n",
    "    f. Berapa sample size dan durasi experiment?\n"
   ]
  },
  {
   "cell_type": "markdown",
   "id": "e48f6320-8052-4e70-a1bd-e1ae7382e15a",
   "metadata": {},
   "source": [
    " "
   ]
  },
  {
   "cell_type": "code",
   "execution_count": 42,
   "id": "f65533bb-7850-4525-b98f-7c1d4a52526a",
   "metadata": {},
   "outputs": [
    {
     "data": {
      "text/html": [
       "<div>\n",
       "<style scoped>\n",
       "    .dataframe tbody tr th:only-of-type {\n",
       "        vertical-align: middle;\n",
       "    }\n",
       "\n",
       "    .dataframe tbody tr th {\n",
       "        vertical-align: top;\n",
       "    }\n",
       "\n",
       "    .dataframe thead th {\n",
       "        text-align: right;\n",
       "    }\n",
       "</style>\n",
       "<table border=\"1\" class=\"dataframe\">\n",
       "  <thead>\n",
       "    <tr style=\"text-align: right;\">\n",
       "      <th></th>\n",
       "      <th>age</th>\n",
       "      <th>job</th>\n",
       "      <th>marital</th>\n",
       "      <th>education</th>\n",
       "      <th>default</th>\n",
       "      <th>balance</th>\n",
       "      <th>housing</th>\n",
       "      <th>loan</th>\n",
       "      <th>contact</th>\n",
       "      <th>day</th>\n",
       "      <th>month</th>\n",
       "      <th>duration</th>\n",
       "      <th>campaign</th>\n",
       "      <th>pdays</th>\n",
       "      <th>previous</th>\n",
       "      <th>poutcome</th>\n",
       "      <th>y</th>\n",
       "    </tr>\n",
       "  </thead>\n",
       "  <tbody>\n",
       "    <tr>\n",
       "      <th>0</th>\n",
       "      <td>58</td>\n",
       "      <td>management</td>\n",
       "      <td>married</td>\n",
       "      <td>tertiary</td>\n",
       "      <td>no</td>\n",
       "      <td>2143</td>\n",
       "      <td>yes</td>\n",
       "      <td>no</td>\n",
       "      <td>unknown</td>\n",
       "      <td>5</td>\n",
       "      <td>may</td>\n",
       "      <td>261</td>\n",
       "      <td>1</td>\n",
       "      <td>-1</td>\n",
       "      <td>0</td>\n",
       "      <td>unknown</td>\n",
       "      <td>no</td>\n",
       "    </tr>\n",
       "    <tr>\n",
       "      <th>1</th>\n",
       "      <td>44</td>\n",
       "      <td>technician</td>\n",
       "      <td>single</td>\n",
       "      <td>secondary</td>\n",
       "      <td>no</td>\n",
       "      <td>29</td>\n",
       "      <td>yes</td>\n",
       "      <td>no</td>\n",
       "      <td>unknown</td>\n",
       "      <td>5</td>\n",
       "      <td>may</td>\n",
       "      <td>151</td>\n",
       "      <td>1</td>\n",
       "      <td>-1</td>\n",
       "      <td>0</td>\n",
       "      <td>unknown</td>\n",
       "      <td>no</td>\n",
       "    </tr>\n",
       "    <tr>\n",
       "      <th>2</th>\n",
       "      <td>33</td>\n",
       "      <td>entrepreneur</td>\n",
       "      <td>married</td>\n",
       "      <td>secondary</td>\n",
       "      <td>no</td>\n",
       "      <td>2</td>\n",
       "      <td>yes</td>\n",
       "      <td>yes</td>\n",
       "      <td>unknown</td>\n",
       "      <td>5</td>\n",
       "      <td>may</td>\n",
       "      <td>76</td>\n",
       "      <td>1</td>\n",
       "      <td>-1</td>\n",
       "      <td>0</td>\n",
       "      <td>unknown</td>\n",
       "      <td>no</td>\n",
       "    </tr>\n",
       "  </tbody>\n",
       "</table>\n",
       "</div>"
      ],
      "text/plain": [
       "   age           job  marital  education default  balance housing loan  \\\n",
       "0   58    management  married   tertiary      no     2143     yes   no   \n",
       "1   44    technician   single  secondary      no       29     yes   no   \n",
       "2   33  entrepreneur  married  secondary      no        2     yes  yes   \n",
       "\n",
       "   contact  day month  duration  campaign  pdays  previous poutcome   y  \n",
       "0  unknown    5   may       261         1     -1         0  unknown  no  \n",
       "1  unknown    5   may       151         1     -1         0  unknown  no  \n",
       "2  unknown    5   may        76         1     -1         0  unknown  no  "
      ]
     },
     "execution_count": 42,
     "metadata": {},
     "output_type": "execute_result"
    }
   ],
   "source": [
    "df_bank = pd.read_csv('bank-full.csv',engine='python',sep=None)\n",
    "df_bank.head(3)"
   ]
  },
  {
   "cell_type": "markdown",
   "id": "e6d446eb-8cab-4667-8986-1115654f3492",
   "metadata": {},
   "source": [
    "a. Apa nama experimentnya?<br>\n",
    "Deposit Campaign : yaitu membandingkan user yang menerima campaign kemudian membuka akun deposit dan user yang menerima campaign tetapi tidak membuka akun deposit "
   ]
  },
  {
   "cell_type": "markdown",
   "id": "2afa2948-9a91-4e19-8528-8d85cf2230dc",
   "metadata": {},
   "source": [
    "b. Definisikan Hipotesis <br>\n",
    " H0 : User menerima campaign dari bank dan tertarik dengan campaign tersebut, maka user akan membuka akun deposit di bank tersebut <br>\n",
    " H1 : User menerima campaign dari bank tetapi tidak tertarik dengan campaign tersebut maka user tidak membuka akun deposit"
   ]
  },
  {
   "cell_type": "markdown",
   "id": "cb0af606-f794-4e3e-9421-84b93b2a8436",
   "metadata": {},
   "source": [
    "c. Siapa participant-nya?\n",
    "\n",
    "1. Kita dapat menjadikan nasabah bank tersebut sebagai participant, hal ini bertujuan bank dapat meningkatkan jumlah akun baru meskipun dari nasabah lama, keuntungannya nasabah lama lebih paham akan produk dari bank.\n",
    "2. Menjadikan nasabah dari bank lain menjadi participant campaign, hal ini bertujuan untuk mengakuisisi nasabah bank lain untuk menjadi nasabah baru, keuntungannya user ini sudah familiar dengan produk perbankkan sehingga user dapat membandingkan produk perbankan antar abank.\n",
    "3. Memberikan campaign kepada user yang sama sekali belum memiliki akun deposit di bank mana pun, keuntungannya bank dapat memperkenalkan produknya kepada user secara masive."
   ]
  },
  {
   "cell_type": "code",
   "execution_count": 49,
   "id": "521782e7-9f9e-4020-a1c5-1fa5cf838f07",
   "metadata": {},
   "outputs": [
    {
     "data": {
      "text/plain": [
       "(5289, 17)"
      ]
     },
     "execution_count": 49,
     "metadata": {},
     "output_type": "execute_result"
    }
   ],
   "source": [
    "# d. Variabel yang akan diuji apa?\n",
    "# Dalam hal ini variabel y akan dilakukan uji hipotesis\n",
    "\n",
    "yes = df_bank[df_bank['y']=='yes']\n",
    "yes.shape"
   ]
  },
  {
   "cell_type": "code",
   "execution_count": 50,
   "id": "c5a35713-1b93-463f-bac0-e4bcde285596",
   "metadata": {},
   "outputs": [
    {
     "data": {
      "text/plain": [
       "(39922, 17)"
      ]
     },
     "execution_count": 50,
     "metadata": {},
     "output_type": "execute_result"
    }
   ],
   "source": [
    "no = df_bank[df_bank['y']=='no']\n",
    "no.shape"
   ]
  },
  {
   "cell_type": "markdown",
   "id": "0523a538-0889-43f1-ac05-45b3b98397b6",
   "metadata": {},
   "source": [
    "* Dari data diatas terlihat 5289 user menerima campaign dan membuka akun deposit dan <br>\n",
    "3992 user menerima campaign tetapi tidak membuka akun deosit"
   ]
  },
  {
   "cell_type": "markdown",
   "id": "0e2cddce-7663-43e4-b11b-0b7faa653352",
   "metadata": {},
   "source": [
    "e. Metrics apa yang akan digunakan?<br>\n",
    "Kita akan menggunakan rata-rata conversion rate dari user untuk menetapkan metricsnya "
   ]
  },
  {
   "cell_type": "code",
   "execution_count": 54,
   "id": "2090798d-f26b-4dc2-a4d8-9abbb5d8206e",
   "metadata": {},
   "outputs": [
    {
     "data": {
      "text/plain": [
       "2.1410474569861977"
      ]
     },
     "execution_count": 54,
     "metadata": {},
     "output_type": "execute_result"
    }
   ],
   "source": [
    "yes['campaign'].mean()"
   ]
  },
  {
   "cell_type": "code",
   "execution_count": 55,
   "id": "6886bb6e-1686-4575-aad0-b0488842f254",
   "metadata": {},
   "outputs": [
    {
     "data": {
      "text/plain": [
       "2.8463503832473322"
      ]
     },
     "execution_count": 55,
     "metadata": {},
     "output_type": "execute_result"
    }
   ],
   "source": [
    "no['campaign'].mean()"
   ]
  },
  {
   "cell_type": "markdown",
   "id": "fbc6582a-d0bb-4e53-8114-baac8aa603e7",
   "metadata": {},
   "source": [
    "# f. Berapa sample size dan durasi experiment?\n",
    "\n",
    "N = df_bank.shape[0]\n",
    "e = 0.05\n",
    "\n",
    "slovin = N / ( 1+N*e**2)\n",
    "slovin"
   ]
  },
  {
   "cell_type": "markdown",
   "id": "dba3ba7b-9d6c-4412-9d51-5efe6e3813c6",
   "metadata": {},
   "source": [
    "### 5.2 Pengujian Hipotesis\n",
    "\n",
    "b. Penentuan hipotesis <br>\n",
    "c. Pengujian yang digunakan <br>\n",
    "d. Deteksi asumsi beserta cara penanganannya <br>\n",
    "e. Hasil pengujian hipotesis <br>\n",
    "f. Kesimpulan dan interpretasi <br>\n",
    " "
   ]
  },
  {
   "cell_type": "markdown",
   "id": "982f0ad5-efde-433a-a513-0642f9e3c37c",
   "metadata": {},
   "source": [
    " b. Penentuan hipotesis statistika deskriptif <br>\n",
    " H0 : User menerima campaign dari bank dan tertarik dengan campaign tersebut, maka user akan membuka akun deposit di bank tersebut <br>\n",
    " H1 : User menerima campaign dari bank tetapi tidak tertarik dengan campaign tersebut maka user tidak membuka akun deposit\n",
    "\n"
   ]
  },
  {
   "cell_type": "code",
   "execution_count": 65,
   "id": "a9f9e6b6-f7f0-4ef7-a955-df3d5f9d3b8b",
   "metadata": {},
   "outputs": [
    {
     "data": {
      "text/plain": [
       "2.1410474569861977"
      ]
     },
     "execution_count": 65,
     "metadata": {},
     "output_type": "execute_result"
    }
   ],
   "source": [
    "# c. Pengujian yang digunakan\n",
    "\n",
    "yes['campaign'].mean()"
   ]
  },
  {
   "cell_type": "code",
   "execution_count": 62,
   "id": "44339b38-eebc-4ebb-bff6-8d8e43415f96",
   "metadata": {},
   "outputs": [
    {
     "data": {
      "text/plain": [
       "2.8463503832473322"
      ]
     },
     "execution_count": 62,
     "metadata": {},
     "output_type": "execute_result"
    }
   ],
   "source": [
    "no['campaign'].mean()"
   ]
  },
  {
   "cell_type": "markdown",
   "id": "53959069-3e16-4a05-8377-e56dbb894654",
   "metadata": {},
   "source": [
    "d. Deteksi asumsi beserta cara penanganannya\n",
    "\n",
    "ttest = st.ttest_ind(a = discount['gmv'], b=not_discount['gmv'])\n",
    "p_value = ttest.pvalue"
   ]
  },
  {
   "cell_type": "code",
   "execution_count": 66,
   "id": "aac0d8ea-75aa-4a9a-bf7d-c18e5a779590",
   "metadata": {},
   "outputs": [
    {
     "name": "stdout",
     "output_type": "stream",
     "text": [
      "P-Value : 1.0123473642096295e-54\n"
     ]
    }
   ],
   "source": [
    "ttest = st.ttest_ind( a = yes['campaign'],b = no['campaign'] )\n",
    "p_value = ttest.pvalue\n",
    "\n",
    "print('P-Value :',p_value)"
   ]
  },
  {
   "cell_type": "code",
   "execution_count": 68,
   "id": "bb9ffed9-84ba-40d6-8b2f-dc58f8679c26",
   "metadata": {},
   "outputs": [
    {
     "name": "stdout",
     "output_type": "stream",
     "text": [
      "Terima H1 : User menerima campaign dari bank tetapi tidak tertarik dengan campaign tersebut maka user tidak membuka akun deposit\n"
     ]
    }
   ],
   "source": [
    "# e. Hasil pengujian hipotesis\n",
    "\n",
    "if p_value >= 0.05 :\n",
    "    print('Terima H0 : User menerima campaign dari bank dan tertarik dengan campaign tersebut, maka user akan membuka akun deposit di bank tersebut')\n",
    "\n",
    "else :\n",
    "    print('Terima H1 : User menerima campaign dari bank tetapi tidak tertarik dengan campaign tersebut maka user tidak membuka akun deposit')"
   ]
  },
  {
   "cell_type": "code",
   "execution_count": 70,
   "id": "7f968be9-3f84-4772-bb52-51a45f023b6d",
   "metadata": {},
   "outputs": [],
   "source": [
    "# f. Kesimpulan dan interpretasi\n",
    "\n",
    "# Dalam kasus ini, dapat di ambil kesimpulan bahwa rata-rata user yang menerima campaign tidak tertarik untuk membuka akun deposit"
   ]
  },
  {
   "cell_type": "code",
   "execution_count": null,
   "id": "4d1b03ef-1109-47f6-9daa-77e56b703826",
   "metadata": {},
   "outputs": [],
   "source": []
  }
 ],
 "metadata": {
  "kernelspec": {
   "display_name": "Python 3 (ipykernel)",
   "language": "python",
   "name": "python3"
  },
  "language_info": {
   "codemirror_mode": {
    "name": "ipython",
    "version": 3
   },
   "file_extension": ".py",
   "mimetype": "text/x-python",
   "name": "python",
   "nbconvert_exporter": "python",
   "pygments_lexer": "ipython3",
   "version": "3.9.13"
  }
 },
 "nbformat": 4,
 "nbformat_minor": 5
}
